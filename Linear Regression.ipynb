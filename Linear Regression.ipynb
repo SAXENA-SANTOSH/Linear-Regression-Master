{
 "cells": [
  {
   "cell_type": "code",
   "execution_count": 2,
   "id": "a2231f59",
   "metadata": {},
   "outputs": [],
   "source": [
    "import numpy as np\n",
    "import pandas as pd\n",
    "import matplotlib.pyplot as plt\n",
    "      \n",
    "      \n",
    "class Linear_Regression:\n",
    "      \n",
    "    def __init__(self, eta= 0.01 , n_iter=1000 , random_state = 1):\n",
    "        self.eta = eta\n",
    "        self.n_iter = n_iter\n",
    "        self.random_state = random_state\n",
    "       \n",
    "    def predict(self, value):\n",
    "        return np.dot(np.transpose(self.w[1:]), value) + self.w[0]\n",
    "       \n",
    "    def calculate_loss(self):\n",
    "        loss = 0\n",
    "        for i in range(len(self.x)):\n",
    "            value = (self.y.values[i] - self.predict(self.x.values[i]))**2\n",
    "            loss = loss + (value/len(self.x))\n",
    "        return loss[0]\n",
    "       \n",
    "    def calculate_gradient(self, x):\n",
    "        gradient = 0\n",
    "        for i in range(len(self.x)):\n",
    "            value = (self.y.values[i] - self.predict(self.x.values[i]))*(x.values[i])\n",
    "            value = value/len(self.y)\n",
    "            gradient = gradient + value\n",
    "        return -gradient\n",
    "       \n",
    "    def calculate_constant(self):\n",
    "        constant = 0\n",
    "        for i in range(len(self.x)):\n",
    "            value = (self.y.values[i] - self.predict(self.x.values[i]))\n",
    "            value = value/len(self.y)\n",
    "            constant = constant + value\n",
    "        return -constant\n",
    "           \n",
    "       \n",
    "    def fit(self, x,y):\n",
    "        self.x = pd.DataFrame(x)\n",
    "        self.y = pd.DataFrame(y)\n",
    "        regen = np.random.RandomState(self.random_state)\n",
    "        self.w = regen.normal(loc = 0.0, scale = 0.01, size = 1 + self.x.shape[1])\n",
    "        self.error = []\n",
    "        self.weights = []\n",
    "        for i in range(self.n_iter):\n",
    "            self.error.append(self.calculate_loss())\n",
    "            self.weights.append(list(self.w))\n",
    "            self.w[0] = self.w[0] - self.eta*(self.calculate_constant())\n",
    "            for j in range(1,len(self.w)):\n",
    "                gradient = self.calculate_gradient(self.x.iloc[:,j-1])\n",
    "                self.w[j] = self.w[j] - self.eta*(gradient)\n",
    "   "
   ]
  },
  {
   "cell_type": "code",
   "execution_count": 3,
   "id": "02fcff63",
   "metadata": {},
   "outputs": [],
   "source": [
    "x = [1,2,3,4]\n",
    "y = [2,4,6,8]\n",
    "lr = Linear_Regression()\n",
    "lr.fit(x,y)"
   ]
  },
  {
   "cell_type": "code",
   "execution_count": 4,
   "id": "49b69a52",
   "metadata": {},
   "outputs": [
    {
     "data": {
      "text/plain": [
       "0.0032469135433797515"
      ]
     },
     "execution_count": 4,
     "metadata": {},
     "output_type": "execute_result"
    }
   ],
   "source": [
    "lr.calculate_loss()"
   ]
  },
  {
   "cell_type": "code",
   "execution_count": 5,
   "id": "a38d5541",
   "metadata": {},
   "outputs": [
    {
     "data": {
      "text/plain": [
       "array([15.76052225])"
      ]
     },
     "execution_count": 5,
     "metadata": {},
     "output_type": "execute_result"
    }
   ],
   "source": [
    "lr.predict(8)"
   ]
  },
  {
   "cell_type": "code",
   "execution_count": null,
   "id": "c21ac737",
   "metadata": {},
   "outputs": [],
   "source": []
  }
 ],
 "metadata": {
  "kernelspec": {
   "display_name": "Python 3 (ipykernel)",
   "language": "python",
   "name": "python3"
  },
  "language_info": {
   "codemirror_mode": {
    "name": "ipython",
    "version": 3
   },
   "file_extension": ".py",
   "mimetype": "text/x-python",
   "name": "python",
   "nbconvert_exporter": "python",
   "pygments_lexer": "ipython3",
   "version": "3.9.7"
  }
 },
 "nbformat": 4,
 "nbformat_minor": 5
}
